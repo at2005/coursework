{
 "cells": [
  {
   "cell_type": "code",
   "execution_count": 2,
   "metadata": {},
   "outputs": [
    {
     "name": "stdout",
     "output_type": "stream",
     "text": [
      "Mean trustworthiness for winners was 0.580687654071464\n",
      "Mean alliance for winners was 0.6876350590155214\n",
      "The player who won the most was 5\n",
      "0.597307127659779\n",
      "0.7506901206304046\n"
     ]
    }
   ],
   "source": [
    "import os\n",
    "import json\n",
    "\n",
    "score_lst_trustworthiness = 0\n",
    "score_lst_alliance = 0\n",
    "counter = 0\n",
    "\n",
    "player_wins = [0, 0, 0, 0, 0]\n",
    "trustworthiness = []\n",
    "alliance_lst = []\n",
    "    \n",
    "trustworthiness_player = [[], [], [], [], []]\n",
    "\n",
    "trustworthiness_player_all = [[], [], [], [], []]\n",
    "\n",
    "\n",
    "data_files = os.listdir('server/data')\n",
    "for file_ in data_files:\n",
    "    index = int(file_[5:].split(\".\")[0])\n",
    "    if index % 2 == 0:\n",
    "        with open(f\"server/data/{file_}\") as f:\n",
    "\n",
    "            data = json.load(f)\n",
    "            last_key = list(data.keys())[-1]\n",
    "            player_won = int(data[last_key].split(\" \")[1]) - 1\n",
    "            player_str = \"player\" + str(player_won)\n",
    "            score_lst_trustworthiness += data[player_str][\"trustworthiness\"]\n",
    "            trustworthiness.append(data[player_str][\"trustworthiness\"])\n",
    "\n",
    "            score_lst_alliance += data[player_str][\"likelihood_of_alliance\"]\n",
    "            alliance_lst.append(data[player_str][\"likelihood_of_alliance\"])\n",
    "\n",
    "            trustworthiness_player[player_won].append(data[player_str][\"trustworthiness\"])\n",
    "              \n",
    "            player_wins[player_won] += 1\n",
    "            counter += 1\n",
    "\n",
    "\n",
    "            # for all players, not just winners\n",
    "            for i in range(5):\n",
    "                player_str_all = \"player\" + str(i)\n",
    "                trustworthiness_player_all[i].append(data[player_str_all][\"trustworthiness\"]) \n",
    "\n",
    "\n",
    "\n",
    "print(f\"Mean trustworthiness for winners was {score_lst_trustworthiness / counter}\")\n",
    "print(f\"Mean alliance for winners was {score_lst_alliance / counter}\")\n",
    "print(f\"The player who won the most was {player_wins.index(max(player_wins)) + 1}\")\n",
    "\n",
    "\n",
    "\n",
    "def calc_median(lst):\n",
    "    median = 0\n",
    "    sorted_lst = sorted(lst)\n",
    "    if(len(sorted_lst) % 2 == 0):\n",
    "        index_mid1 = int((len(sorted_lst) / 2) - 1)\n",
    "        index_mid2 = int(len(sorted_lst) / 2)\n",
    "        median = (sorted_lst[index_mid1] + sorted_lst[index_mid2]) / 2\n",
    "        return median\n",
    "\n",
    "    index_mid = int(len(sorted_lst) / 2)\n",
    "    median = sorted_lst[index_mid]\n",
    "    return median\n",
    "    \n",
    "\n",
    "print(calc_median(trustworthiness))\n",
    "print(calc_median(alliance_lst))"
   ]
  },
  {
   "cell_type": "code",
   "execution_count": 3,
   "metadata": {},
   "outputs": [
    {
     "data": {
      "image/png": "[encoded data removed]",
      "text/plain": [
       "<Figure size 432x288 with 1 Axes>"
      ]
     },
     "metadata": {
      "needs_background": "light"
     },
     "output_type": "display_data"
    }
   ],
   "source": [
    "# mode calculation and plot\n",
    "import matplotlib.pyplot as plt\n",
    "plt.bar([1, 2, 3, 4, 5], [i/sum(player_wins) for i in player_wins])\n",
    "plt.xlabel(\"Player\")\n",
    "plt.ylabel(\"Probability of Winning\")\n",
    "plt.title(\"Players - Probability of Winning\")\n",
    "plt.show()"
   ]
  },
  {
   "cell_type": "code",
   "execution_count": 4,
   "metadata": {},
   "outputs": [
    {
     "data": {
      "image/png": "[encoded data removed]",
      "text/plain": [
       "<Figure size 432x288 with 1 Axes>"
      ]
     },
     "metadata": {
      "needs_background": "light"
     },
     "output_type": "display_data"
    }
   ],
   "source": [
    "plt.bar(range(len(trustworthiness)), trustworthiness)\n",
    "plt.show()"
   ]
  },
  {
   "cell_type": "code",
   "execution_count": 5,
   "metadata": {},
   "outputs": [
    {
     "data": {
      "text/plain": [
       "Text(0, 0.5, 'Trustworthiness Score')"
      ]
     },
     "execution_count": 5,
     "metadata": {},
     "output_type": "execute_result"
    },
    {
     "data": {
      "image/png": "[encoded data removed]",
      "text/plain": [
       "<Figure size 432x288 with 1 Axes>"
      ]
     },
     "metadata": {
      "needs_background": "light"
     },
     "output_type": "display_data"
    }
   ],
   "source": [
    "avg_arr = []\n",
    "for arr in trustworthiness_player:\n",
    "    avg_arr.append(sum(arr)/len(arr))\n",
    "\n",
    "plt.bar([1,2,3,4,5], avg_arr)\n",
    "plt.xlabel(\"Players\")\n",
    "plt.ylabel(\"Trustworthiness Score\")"
   ]
  },
  {
   "cell_type": "code",
   "execution_count": 6,
   "metadata": {},
   "outputs": [],
   "source": [
    "# Bayes' Theorem Analysis\n",
    "\n",
    "def p_player(player_num):\n",
    "    return player_wins[player_num - 1] / sum(player_wins)\n",
    "\n",
    "def p_trust_given_w(player_num):\n",
    "    counter = 0\n",
    "    arr = trustworthiness_player[player_num - 1]\n",
    "    for i in arr:\n",
    "        if i > 0.7:\n",
    "            counter += 1\n",
    "    return counter / len(arr)\n",
    "\n",
    "def p_win(player_num):\n",
    "    return player_wins[player_num-1] / sum(player_wins)\n",
    "\n",
    "\n",
    "def trust_greater(player_num):\n",
    "    counter = 0\n",
    "    arr = trustworthiness_player_all[player_num - 1]\n",
    "    for i in arr:\n",
    "        if i > 0.7:\n",
    "            counter += 1\n",
    "    return counter / len(arr)\n",
    "\n",
    "def w_given_t(player_num):\n",
    "    return (p_trust_given_w(player_num) * p_win(player_num) ) /trust_greater(player_num)"
   ]
  },
  {
   "cell_type": "code",
   "execution_count": 8,
   "metadata": {},
   "outputs": [
    {
     "data": {
      "text/plain": [
       "Text(0, 0.5, 'Probability of winning')"
      ]
     },
     "execution_count": 8,
     "metadata": {},
     "output_type": "execute_result"
    },
    {
     "data": {
      "image/png": "[encoded data removed]",
      "text/plain": [
       "<Figure size 432x288 with 1 Axes>"
      ]
     },
     "metadata": {
      "needs_background": "light"
     },
     "output_type": "display_data"
    }
   ],
   "source": [
    "plotting_arr = [w_given_t(i) for i in range(1,6)]\n",
    "plt.bar(range(1,6), plotting_arr)\n",
    "plt.xlabel(\"Players\")\n",
    "plt.ylabel(\"Probability of winning\")"
   ]
  },
  {
   "cell_type": "code",
   "execution_count": 9,
   "metadata": {},
   "outputs": [
    {
     "name": "stdout",
     "output_type": "stream",
     "text": [
      "0.3333333333333333\n"
     ]
    },
    {
     "data": {
      "text/plain": [
       "0.27999999999999997"
      ]
     },
     "execution_count": 9,
     "metadata": {},
     "output_type": "execute_result"
    }
   ],
   "source": [
    "print(calc_median(plotting_arr))\n",
    "sum(plotting_arr) / len(plotting_arr)"
   ]
  },
  {
   "cell_type": "code",
   "execution_count": null,
   "metadata": {},
   "outputs": [],
   "source": []
  }
 ],
 "metadata": {
  "kernelspec": {
   "display_name": "mlp",
   "language": "python",
   "name": "python3"
  },
  "language_info": {
   "codemirror_mode": {
    "name": "ipython",
    "version": 3
   },
   "file_extension": ".py",
   "mimetype": "text/x-python",
   "name": "python",
   "nbconvert_exporter": "python",
   "pygments_lexer": "ipython3",
   "version": "3.8.13"
  },
  "orig_nbformat": 4
 },
 "nbformat": 4,
 "nbformat_minor": 2
}

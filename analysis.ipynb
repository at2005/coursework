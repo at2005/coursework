{
 "cells": [
  {
   "cell_type": "code",
   "execution_count": 12,
   "metadata": {},
   "outputs": [
    {
     "name": "stdout",
     "output_type": "stream",
     "text": [
      "Mean trustworthiness for winners was 0.5476187137756222\n",
      "Mean alliance for winners was 0.4718484366627094\n",
      "The player who won the most was 2\n",
      "0.6156476027044497\n",
      "0.48550547181638093\n"
     ]
    }
   ],
   "source": [
    "import os\n",
    "import json\n",
    "\n",
    "score_lst_trustworthiness = 0\n",
    "score_lst_alliance = 0\n",
    "counter = 0\n",
    "\n",
    "player_wins = [0, 0, 0, 0, 0]\n",
    "trustworthiness = []\n",
    "alliance_lst = []\n",
    "\n",
    "\n",
    "data_files = os.listdir('server/data')\n",
    "for file_ in data_files:\n",
    "    index = int(file_[5:].split(\".\")[0])\n",
    "    if index % 2 == 0:\n",
    "        with open(f\"server/data/{file_}\") as f:\n",
    "\n",
    "            data = json.load(f)\n",
    "            last_key = list(data.keys())[-1]\n",
    "            player_won = int(data[last_key].split(\" \")[1])\n",
    "            player_str = \"player\" + str(player_won)\n",
    "            score_lst_trustworthiness += data[player_str][\"trustworthiness\"]\n",
    "            trustworthiness.append(data[player_str][\"trustworthiness\"])\n",
    "\n",
    "            score_lst_alliance += data[player_str][\"likelihood_of_alliance\"]\n",
    "            alliance_lst.append(data[player_str][\"likelihood_of_alliance\"])\n",
    "            \n",
    "            player_wins[player_won] += 1\n",
    "            counter += 1\n",
    "\n",
    "print(f\"Mean trustworthiness for winners was {score_lst_trustworthiness / counter}\")\n",
    "print(f\"Mean alliance for winners was {score_lst_alliance / counter}\")\n",
    "print(f\"The player who won the most was {player_wins.index(max(player_wins)) + 1}\")\n",
    "\n",
    "\n",
    "\n",
    "def calc_median(lst):\n",
    "    median = 0\n",
    "    sorted_lst = sorted(lst)\n",
    "    if(len(sorted_lst) % 2 == 0):\n",
    "        index_mid1 = int((len(sorted_lst) / 2) - 1)\n",
    "        index_mid2 = int(len(sorted_lst) / 2)\n",
    "        median = (sorted_lst[index_mid1] + sorted_lst[index_mid2]) / 2\n",
    "        return median\n",
    "\n",
    "    index_mid = int(len(sorted_lst) / 2)\n",
    "    median = sorted_lst[index_mid]\n",
    "    return median\n",
    "    \n",
    "\n",
    "print(calc_median(trustworthiness))\n",
    "print(calc_median(alliance_lst))"
   ]
  },
  {
   "cell_type": "code",
   "execution_count": 13,
   "metadata": {},
   "outputs": [
    {
     "data": {
      "image/png": "[encoded data removed]",
      "text/plain": [
       "<Figure size 432x288 with 1 Axes>"
      ]
     },
     "metadata": {
      "needs_background": "light"
     },
     "output_type": "display_data"
    }
   ],
   "source": [
    "# mode calculation and plot\n",
    "import matplotlib.pyplot as plt\n",
    "plt.bar([1, 2, 3, 4, 5], player_wins)\n",
    "plt.xlabel(\"Player\")\n",
    "plt.ylabel(\"Number of wins\")\n",
    "plt.title(\"Number of wins per player\")\n",
    "plt.show()"
   ]
  },
  {
   "cell_type": "code",
   "execution_count": 14,
   "metadata": {},
   "outputs": [
    {
     "data": {
      "image/png": "[encoded data removed]",
      "text/plain": [
       "<Figure size 432x288 with 1 Axes>"
      ]
     },
     "metadata": {
      "needs_background": "light"
     },
     "output_type": "display_data"
    }
   ],
   "source": [
    "plt.bar(range(len(trustworthiness)), trustworthiness)\n",
    "plt.show()"
   ]
  },
  {
   "cell_type": "code",
   "execution_count": null,
   "metadata": {},
   "outputs": [],
   "source": []
  },
  {
   "cell_type": "code",
   "execution_count": null,
   "metadata": {},
   "outputs": [],
   "source": []
  }
 ],
 "metadata": {
  "kernelspec": {
   "display_name": "mlp",
   "language": "python",
   "name": "python3"
  },
  "language_info": {
   "codemirror_mode": {
    "name": "ipython",
    "version": 3
   },
   "file_extension": ".py",
   "mimetype": "text/x-python",
   "name": "python",
   "nbconvert_exporter": "python",
   "pygments_lexer": "ipython3",
   "version": "3.8.13"
  },
  "orig_nbformat": 4
 },
 "nbformat": 4,
 "nbformat_minor": 2
}
